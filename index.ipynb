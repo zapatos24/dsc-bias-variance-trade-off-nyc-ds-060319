{
 "cells": [
  {
   "cell_type": "markdown",
   "metadata": {},
   "source": [
    "# Bias-Variance Trade-Off"
   ]
  },
  {
   "cell_type": "markdown",
   "metadata": {},
   "source": [
    "## Introduction"
   ]
  },
  {
   "cell_type": "markdown",
   "metadata": {},
   "source": [
    "You've seen how you can extend your linear models by including interaction effects as well as polynomial terms. Including these in models comes at a price though: not only do the models become more complex (with more parameter estimates), adding more terms can potentially harm model performance when performing predictions. You'll learn about that in this lesson."
   ]
  },
  {
   "cell_type": "markdown",
   "metadata": {},
   "source": [
    "## Objectives"
   ]
  },
  {
   "cell_type": "markdown",
   "metadata": {},
   "source": [
    "You will be able to:\n",
    "- Understand what the bias/variance trade-off is\n",
    "- Understand how bias-variance trade-off relates to underfitting and overfitting"
   ]
  },
  {
   "cell_type": "markdown",
   "metadata": {},
   "source": [
    "## Using models for prediction"
   ]
  },
  {
   "cell_type": "markdown",
   "metadata": {},
   "source": [
    "You have learned earlier how to use regression models for predictions. This is without any doubt one of the main reasons why regressions models are used. \n",
    "\n",
    "When building models for predicting, we have previously seen how we need to create a train test split in order to keep ourselves honest in tuning our model to the data itself. Not doing this can lead to dramatic results. Let's reuse the \"Yield\" data set used in the polynomial regression section (the data was slightly altered, but very similar to what we've seen before). Let's visualize the whole data set."
   ]
  },
  {
   "cell_type": "code",
   "execution_count": 2,
   "metadata": {},
   "outputs": [
    {
     "data": {
      "text/plain": [
       "Text(0, 0.5, 'Yield')"
      ]
     },
     "execution_count": 2,
     "metadata": {},
     "output_type": "execute_result"
    }
   ],
   "source": [
    "import pandas as pd\n",
    "yld = pd.read_csv(\"yield2.csv\", sep='\\s+', index_col = 0)\n",
    "from sklearn.linear_model import LinearRegression\n",
    "from sklearn.model_selection import train_test_split\n",
    "import matplotlib.pyplot as plt\n",
    "from sklearn.preprocessing import PolynomialFeatures\n",
    "import numpy as np\n",
    "\n",
    "yld.head()\n",
    "y = yld[\"Yield\"]\n",
    "X = yld[\"Temp\"]\n",
    "\n",
    "type(X)\n",
    "\n",
    "#X.dtype\n",
    "plt.scatter(X,y, color = \"green\")\n",
    "plt.xlabel(\"Temperature\")\n",
    "plt.ylabel(\"Yield\")"
   ]
  },
  {
   "cell_type": "markdown",
   "metadata": {},
   "source": [
    "There seems to be a downward trend first, then upwards. Let's split this dataset up in a training set, containing 70% of the cases, and a test set, containing 30% of the cases. "
   ]
  },
  {
   "cell_type": "code",
   "execution_count": 3,
   "metadata": {},
   "outputs": [
    {
     "data": {
      "text/plain": [
       "i\n",
       "1     3.30\n",
       "2     3.40\n",
       "3     3.10\n",
       "4     3.20\n",
       "5     3.10\n",
       "6     3.00\n",
       "7     2.80\n",
       "8     2.60\n",
       "9     2.25\n",
       "10    2.30\n",
       "11    2.20\n",
       "12    2.40\n",
       "13    2.50\n",
       "14    2.70\n",
       "15    3.05\n",
       "16    2.80\n",
       "17    2.70\n",
       "18    3.10\n",
       "19    2.80\n",
       "20    3.30\n",
       "21    3.50\n",
       "22    3.80\n",
       "Name: Yield, dtype: float64"
      ]
     },
     "execution_count": 3,
     "metadata": {},
     "output_type": "execute_result"
    }
   ],
   "source": [
    "y"
   ]
  },
  {
   "cell_type": "code",
   "execution_count": 5,
   "metadata": {},
   "outputs": [
    {
     "data": {
      "text/plain": [
       "i\n",
       "1      50\n",
       "2      54\n",
       "3      57\n",
       "4      60\n",
       "5      63\n",
       "6      68\n",
       "7      72\n",
       "8      77\n",
       "9      73\n",
       "10     83\n",
       "11     89\n",
       "12    100\n",
       "13    105\n",
       "14    110\n",
       "15    112\n",
       "16    116\n",
       "17    120\n",
       "18    129\n",
       "19    130\n",
       "20    134\n",
       "21    137\n",
       "22    145\n",
       "Name: Temp, dtype: int64"
      ]
     },
     "execution_count": 5,
     "metadata": {},
     "output_type": "execute_result"
    }
   ],
   "source": [
    "X"
   ]
  },
  {
   "cell_type": "code",
   "execution_count": 2,
   "metadata": {},
   "outputs": [],
   "source": [
    "X_train, X_test, y_train, y_test = train_test_split(X, y, test_size=0.30, random_state=34567)\n",
    "\n",
    "df_train = pd.concat([X_train, y_train], axis=1, ignore_index=True)\n",
    "data_train = df_train.sort_values([0])\n",
    "reg = LinearRegression().fit(data_train[0].values.reshape(-1, 1), data_train[1])\n",
    "\n",
    "df_test = pd.concat([X_test, y_test], axis=1, ignore_index=True)\n",
    "data_test = df_test.sort_values([0])"
   ]
  },
  {
   "cell_type": "markdown",
   "metadata": {},
   "source": [
    "When plotting a simple linear regression model there are no unexpected results: the line is a bad fit, both for training and test set."
   ]
  },
  {
   "cell_type": "code",
   "execution_count": 3,
   "metadata": {},
   "outputs": [
    {
     "data": {
      "image/png": "[encoded data removed]",
      "text/plain": [
       "<Figure size 720x288 with 2 Axes>"
      ]
     },
     "metadata": {
      "needs_background": "light"
     },
     "output_type": "display_data"
    }
   ],
   "source": [
    "plt.figure(figsize=(10, 4))\n",
    "plt.subplot(1, 2, 1)\n",
    "plt.scatter(data_train[0], data_train[1], color = \"green\")\n",
    "plt.plot(data_train[0].values.reshape(-1, 1), reg.predict(data_train[0].values.reshape(-1, 1)))\n",
    "plt.xlabel(\"Temperature\")\n",
    "plt.ylabel(\"Yield\")\n",
    "\n",
    "plt.subplot(1, 2, 2)\n",
    "plt.scatter(data_test[0], data_test[1], color = \"green\")\n",
    "plt.plot(data_test[0].values.reshape(-1, 1), reg.predict(data_test[0].values.reshape(-1, 1)))\n",
    "plt.xlabel(\"Temperature\");"
   ]
  },
  {
   "cell_type": "markdown",
   "metadata": {},
   "source": [
    "When including polynomials, however, the result changes. We included a polynomial of 6 here. Where the result seems to be very accurate for the training set, the picture is definitely different for the test set on the right hand side. Where the fit seemed to be good for the training set, the test set fit is not nearly as good. The problem is that our model did *not generalize well* to cases outside the training set."
   ]
  },
  {
   "cell_type": "code",
   "execution_count": 4,
   "metadata": {},
   "outputs": [],
   "source": [
    "# create polynomial fit when training and test set\n",
    "df_train = pd.concat([X_train, y_train], axis=1, ignore_index=True)\n",
    "data_train = df_train.sort_values([0])\n",
    "\n",
    "poly = PolynomialFeatures(6)  # 2 vs 5\n",
    "X_fin = poly.fit_transform(data_train[0].values.reshape(-1, 1))\n",
    "reg_poly = LinearRegression().fit(X_fin, data_train[1])\n",
    "\n",
    "df_test = pd.concat([X_test, y_test], axis=1, ignore_index=True)\n",
    "data_test = df_test.sort_values([0])"
   ]
  },
  {
   "cell_type": "code",
   "execution_count": 6,
   "metadata": {},
   "outputs": [
    {
     "data": {
      "image/png": "[encoded data removed]",
      "text/plain": [
       "<Figure size 720x288 with 2 Axes>"
      ]
     },
     "metadata": {
      "needs_background": "light"
     },
     "output_type": "display_data"
    }
   ],
   "source": [
    "# plot polynomial fit\n",
    "X_linspace = pd.DataFrame(np.linspace(50,145,50), columns = [\"Temp\"])\n",
    "# print(X_linspace)\n",
    "X_linspace_fin = poly.fit_transform(X_linspace)\n",
    "# print(X_linspace_fin)\n",
    "\n",
    "y_poly_pred = reg_poly.predict(X_linspace_fin)\n",
    "# print(y_poly_pred)\n",
    "\n",
    "plt.figure(figsize=(10, 4))\n",
    "plt.subplot(1, 2, 1)\n",
    "plt.scatter(data_train[0], data_train[1], color = \"green\")\n",
    "plt.plot(X_linspace,y_poly_pred)\n",
    "plt.xlabel(\"Temperature\")\n",
    "plt.ylabel(\"Yield\")\n",
    "\n",
    "plt.subplot(1, 2, 2)\n",
    "plt.scatter(data_test[0], data_test[1], color = \"green\")\n",
    "plt.plot(X_linspace,y_poly_pred);"
   ]
  },
  {
   "cell_type": "markdown",
   "metadata": {},
   "source": [
    "## Underfitting and Overfitting"
   ]
  },
  {
   "cell_type": "markdown",
   "metadata": {},
   "source": [
    "Let's formalize this:\n",
    "\n",
    "\n",
    "> *Underfitting* happens when a model cannot model the training data, nor can it generalize to new data.\n",
    "\n",
    "The simple linear regression model fitter earlier was an underfitted model.\n",
    "\n",
    "> *Overfitting* happens when a model models the training data too well. In fact, so well that it is not generalizeable\n",
    "\n",
    "The 6-degree polynomial was overfitted. Let's have a look at the mean squared error:\n"
   ]
  },
  {
   "cell_type": "code",
   "execution_count": 20,
   "metadata": {},
   "outputs": [
    {
     "data": {
      "text/plain": [
       "0.3843717782381719"
      ]
     },
     "execution_count": 20,
     "metadata": {},
     "output_type": "execute_result"
    }
   ],
   "source": [
    "from sklearn.metrics import mean_squared_error\n",
    "\n",
    "X_fin_test = poly.fit_transform(data_test[0].values.reshape(-1, 1))\n",
    "y_pred = reg_poly.predict(X_fin_test)\n",
    "mean_squared_error(data_test[1], y_pred)"
   ]
  },
  {
   "cell_type": "markdown",
   "metadata": {},
   "source": [
    "Now, let's have a look at the same plots but with second degree polynomial."
   ]
  },
  {
   "cell_type": "code",
   "execution_count": 21,
   "metadata": {},
   "outputs": [
    {
     "data": {
      "text/plain": [
       "0.06124237736141859"
      ]
     },
     "execution_count": 21,
     "metadata": {},
     "output_type": "execute_result"
    },
    {
     "data": {
      "image/png": "[encoded data removed]",
      "text/plain": [
       "<Figure size 720x288 with 2 Axes>"
      ]
     },
     "metadata": {
      "needs_background": "light"
     },
     "output_type": "display_data"
    }
   ],
   "source": [
    "# create polynomial fit when training and test set\n",
    "df_train = pd.concat([X_train, y_train], axis=1, ignore_index=True)\n",
    "data_train = df_train.sort_values([0])\n",
    "\n",
    "poly = PolynomialFeatures(2)  # 2 vs 5\n",
    "X_fin = poly.fit_transform(data_train[0].values.reshape(-1, 1))\n",
    "reg_poly = LinearRegression().fit(X_fin, data_train[1])\n",
    "\n",
    "df_test = pd.concat([X_test, y_test], axis=1, ignore_index=True)\n",
    "data_test = df_test.sort_values([0])\n",
    "\n",
    "# plot polynomial fit\n",
    "X_linspace = pd.DataFrame(np.linspace(50,145,50), columns = [\"Temp\"])\n",
    "X_linspace_fin = poly.fit_transform(X_linspace)\n",
    "\n",
    "y_poly_pred = reg_poly.predict(X_linspace_fin)\n",
    "\n",
    "plt.figure(figsize=(10, 4))\n",
    "plt.subplot(1, 2, 1)\n",
    "plt.scatter(data_train[0], data_train[1], color = \"green\")\n",
    "plt.plot(X_linspace,y_poly_pred)\n",
    "plt.xlabel(\"Temperature\")\n",
    "plt.ylabel(\"Yield\")\n",
    "\n",
    "plt.subplot(1, 2, 2)\n",
    "plt.scatter(data_test[0], data_test[1], color = \"green\")\n",
    "plt.plot(X_linspace,y_poly_pred);\n",
    "\n",
    "X_fin_test = poly.fit_transform(data_test[0].values.reshape(-1, 1))\n",
    "y_pred = reg_poly.predict(X_fin_test)\n",
    "mean_squared_error(data_test[1], y_pred)"
   ]
  },
  {
   "cell_type": "markdown",
   "metadata": {},
   "source": [
    "The fit for the training set became worse, but we can clearly see how the test set performance improved by looking at the mean squared error. Also, it seems like the results for training and test set are comparable, which is what you would want in general."
   ]
  },
  {
   "cell_type": "markdown",
   "metadata": {},
   "source": [
    "## Bias variance trade-off"
   ]
  },
  {
   "cell_type": "markdown",
   "metadata": {},
   "source": [
    "Another perspective on this problem of overfitting versus underfitting is the bias variance tradeoff. The idea is that We can decompose the Mean Squared Error as the sum of \n",
    "- *bias*\n",
    "- *variance*, and\n",
    "- *irreducible error*:\n",
    "\n",
    "Formally, this is written as: \n",
    "$ MSE = Bias(\\hat{f}(x))^2 + Var(\\hat{f}(x)) + \\sigma^2$. The derivation of this result can be found on the Wikipedia page of the bias-variance trade-off, [here](https://en.wikipedia.org/wiki/Bias%E2%80%93variance_tradeoff#Derivation).\n",
    "\n",
    "<img src=\"./images/bias_variance.png\" alt=\"Drawing\" style=\"width: 500px;\"/>"
   ]
  },
  {
   "cell_type": "markdown",
   "metadata": {},
   "source": [
    "- The bias arises when wrong assumptions are made when training a model. For example, an interaction effect is missed, or we didn't catch a certain polynomial relationship. Because of this, our algorithm to miss the relevant relations between predictors and target variable. Note how this is similar to underfitting!\n",
    "\n",
    "- The variance arises  when a model is too sensitive to small fluctuations in the training set. When variance is high, random noise in the training data is modeled, rather than the intended outputs. This is overfitting!"
   ]
  },
  {
   "cell_type": "markdown",
   "metadata": {},
   "source": [
    "The balance between bias and variance is a trade-off. We can reduce the variance but then there is a risk of running a bigger bias, and vice versa. Bias is usually associated with low model complexity, variance with high model complexity. There is generally a \"sweet spot\" in between, compromising between bias and variance. Read the additional resource below for more insights!"
   ]
  },
  {
   "cell_type": "markdown",
   "metadata": {},
   "source": [
    "## Additional resources"
   ]
  },
  {
   "cell_type": "markdown",
   "metadata": {},
   "source": [
    "https://towardsdatascience.com/understanding-the-bias-variance-tradeoff-165e6942b229"
   ]
  },
  {
   "cell_type": "markdown",
   "metadata": {},
   "source": [
    "## Summary"
   ]
  },
  {
   "cell_type": "markdown",
   "metadata": {},
   "source": [
    "Great, now you know what bias-variance trade-off is, what underfitting and overfitting is, and how all of these relate, let's dive in for some practice!"
   ]
  }
 ],
 "metadata": {
  "kernelspec": {
   "display_name": "Python 3",
   "language": "python",
   "name": "python3"
  },
  "language_info": {
   "codemirror_mode": {
    "name": "ipython",
    "version": 3
   },
   "file_extension": ".py",
   "mimetype": "text/x-python",
   "name": "python",
   "nbconvert_exporter": "python",
   "pygments_lexer": "ipython3",
   "version": "3.6.6"
  }
 },
 "nbformat": 4,
 "nbformat_minor": 2
}
